{
 "cells": [
  {
   "cell_type": "markdown",
   "metadata": {},
   "source": [
    "# Creating & Calling Functions"
   ]
  },
  {
   "cell_type": "code",
   "execution_count": 6,
   "metadata": {},
   "outputs": [
    {
     "name": "stdout",
     "output_type": "stream",
     "text": [
      "Name: John Smith\n",
      "Age: 45\n",
      "Name: John Smith\n",
      "Age: 45\n"
     ]
    }
   ],
   "source": [
    "# writing your first function\n",
    "\n",
    "def printInfo():          # defines what the function does when called\n",
    "    print('Name: John Smith')\n",
    "    print('Age: 45')\n",
    "    \n",
    "printInfo()          # calls the function to run\n",
    "printInfo()          # calls the function again"
   ]
  },
  {
   "cell_type": "code",
   "execution_count": 7,
   "metadata": {},
   "outputs": [
    {
     "name": "stdout",
     "output_type": "stream",
     "text": [
      "15\n"
     ]
    }
   ],
   "source": [
    "# performing a calculation in a function\n",
    "\n",
    "def calc():\n",
    "    x, y = 5, 10\n",
    "    print(x + y)\n",
    "    \n",
    "calc()           # will run the block of code within calc and output 15"
   ]
  },
  {
   "cell_type": "markdown",
   "metadata": {},
   "source": [
    "# Parameters"
   ]
  },
  {
   "cell_type": "code",
   "execution_count": 8,
   "metadata": {},
   "outputs": [
    {
     "name": "stdout",
     "output_type": "stream",
     "text": [
      "Your name is: John Smith\n",
      "Your name is: Amanda\n"
     ]
    }
   ],
   "source": [
    "# passing a single parameter into a function\n",
    "\n",
    "def printName(full_name):\n",
    "    print('Your name is: {}'.format(full_name))\n",
    "\n",
    "printName('John Smith')\n",
    "printName('Amanda')"
   ]
  },
  {
   "cell_type": "code",
   "execution_count": 9,
   "metadata": {},
   "outputs": [
    {
     "name": "stdout",
     "output_type": "stream",
     "text": [
      "5 + 8 = 13\n",
      "3.5 + 5.5 = 9.0\n"
     ]
    }
   ],
   "source": [
    "# passing multiple parameters into a function\n",
    "\n",
    "def addNums(num1, num2):\n",
    "    result = num1 + num2\n",
    "    print('{} + {} = {}'.format(num1, num2, result))\n",
    "    \n",
    "addNums(5, 8)    # will output 13\n",
    "addNums(3.5, 5.5)    # will output 9.0"
   ]
  },
  {
   "cell_type": "code",
   "execution_count": 10,
   "metadata": {},
   "outputs": [
    {
     "name": "stdout",
     "output_type": "stream",
     "text": [
      "4\n",
      "16\n",
      "25\n",
      "100\n",
      "1\n",
      "9\n",
      "36\n"
     ]
    }
   ],
   "source": [
    "# using a function to square all information\n",
    "\n",
    "numbers1 = [2, 4, 5, 10]\n",
    "numbers2 = [1, 3, 6]\n",
    "\n",
    "def squares(nums):\n",
    "    for num in nums:\n",
    "        print(num**2)\n",
    "        \n",
    "squares(numbers1)\n",
    "squares(numbers2)"
   ]
  },
  {
   "cell_type": "code",
   "execution_count": 11,
   "metadata": {},
   "outputs": [
    {
     "name": "stdout",
     "output_type": "stream",
     "text": [
      "Area: 12.56\n"
     ]
    }
   ],
   "source": [
    "# setting default parameter values\n",
    "\n",
    "def calcArea(r, pi=3.14):\n",
    "    area = pi * (r**2)\n",
    "    print('Area: {}'.format(area))\n",
    "    \n",
    "calcArea(2)    # assuming radius is the value of 2"
   ]
  },
  {
   "cell_type": "code",
   "execution_count": 12,
   "metadata": {},
   "outputs": [
    {
     "name": "stdout",
     "output_type": "stream",
     "text": [
      "John Smith\n",
      "John Paul Smith\n"
     ]
    }
   ],
   "source": [
    "# setting default parameter values\n",
    "\n",
    "def printName(first, last, middle=''):\n",
    "    if middle:\n",
    "        print('{} {} {}'.format(first, middle, last))\n",
    "    else:\n",
    "        print('{} {}'.format(first, last))\n",
    "        \n",
    "printName('John', 'Smith')\n",
    "printName('John', 'Smith', 'Paul')   # will output with middle name"
   ]
  },
  {
   "cell_type": "code",
   "execution_count": 18,
   "metadata": {},
   "outputs": [
    {
     "name": "stdout",
     "output_type": "stream",
     "text": [
      "2.5\n",
      "5\n"
     ]
    }
   ],
   "source": [
    "# explicity assigning values to parameters by referncing the name\n",
    "\n",
    "def addNums(num1, num2):\n",
    "    print(num2)\n",
    "    print(num1)\n",
    "    \n",
    "addNums(5, num2 = 2.5)"
   ]
  },
  {
   "cell_type": "code",
   "execution_count": 4,
   "metadata": {
    "scrolled": true
   },
   "outputs": [
    {
     "name": "stdout",
     "output_type": "stream",
     "text": [
      "<class 'tuple'>\n",
      "5\n",
      "True\n",
      "Jess\n"
     ]
    }
   ],
   "source": [
    "# using args parameter to take in a tuple of arbitrary values\n",
    "\n",
    "def outputData(name, *args):\n",
    "    print(type(args))\n",
    "    \n",
    "    for arg in args:\n",
    "        print(arg)\n",
    "        \n",
    "outputData(\"John Smith\", 5, True, \"Jess\")"
   ]
  },
  {
   "cell_type": "code",
   "execution_count": 7,
   "metadata": {},
   "outputs": [
    {
     "name": "stdout",
     "output_type": "stream",
     "text": [
      "<class 'dict'>\n",
      "John Smith\n",
      "5\n"
     ]
    }
   ],
   "source": [
    "# using kwargs parameter to take in a dictionary of arbitrary values\n",
    "\n",
    "def outputData(**kwargs):\n",
    "    print(type(kwargs))\n",
    "    \n",
    "    print(kwargs[\"name\"])\n",
    "    print(kwargs[\"num\"])\n",
    "    \n",
    "outputData(name = \"John Smith\", num = 5, b = True)"
   ]
  },
  {
   "cell_type": "markdown",
   "metadata": {},
   "source": [
    "# Return Statement"
   ]
  },
  {
   "cell_type": "code",
   "execution_count": 20,
   "metadata": {},
   "outputs": [
    {
     "name": "stdout",
     "output_type": "stream",
     "text": [
      "10.0\n",
      "20\n"
     ]
    }
   ],
   "source": [
    "# using return keyword to return the sum of two numbers\n",
    "\n",
    "def addNums(num1, num2):\n",
    "    return num1 + num2\n",
    "\n",
    "num = addNums(5.5, 4.5)     # saves returned value into num\n",
    "\n",
    "print(num)\n",
    "\n",
    "print(addNums(10, 10))      # doesn't save returned value"
   ]
  },
  {
   "cell_type": "code",
   "execution_count": 22,
   "metadata": {},
   "outputs": [
    {
     "name": "stdout",
     "output_type": "stream",
     "text": [
      "True\n"
     ]
    }
   ],
   "source": [
    "# shorthand syntax using a ternary operator\n",
    "\n",
    "def searchList(aList, el):\n",
    "    return True if el in aList else False\n",
    "\n",
    "result = searchList(['one', 2, 'three'], 2)   # result = True\n",
    "\n",
    "print(result)"
   ]
  },
  {
   "cell_type": "markdown",
   "metadata": {},
   "source": [
    "# Scope"
   ]
  },
  {
   "cell_type": "code",
   "execution_count": 9,
   "metadata": {},
   "outputs": [
    {
     "ename": "UnboundLocalError",
     "evalue": "local variable 'number' referenced before assignment",
     "output_type": "error",
     "traceback": [
      "\u001b[1;31m---------------------------------------------------------------------------\u001b[0m",
      "\u001b[1;31mUnboundLocalError\u001b[0m                         Traceback (most recent call last)",
      "\u001b[1;32m<ipython-input-9-dd34f9bf8381>\u001b[0m in \u001b[0;36m<module>\u001b[1;34m()\u001b[0m\n\u001b[0;32m      6\u001b[0m     \u001b[0mnumber\u001b[0m \u001b[1;33m+=\u001b[0m \u001b[1;36m1\u001b[0m     \u001b[1;31m# not accessible due to function level scope\u001b[0m\u001b[1;33m\u001b[0m\u001b[0m\n\u001b[0;32m      7\u001b[0m \u001b[1;33m\u001b[0m\u001b[0m\n\u001b[1;32m----> 8\u001b[1;33m \u001b[0mscopeTest\u001b[0m\u001b[1;33m(\u001b[0m\u001b[1;33m)\u001b[0m\u001b[1;33m\u001b[0m\u001b[0m\n\u001b[0m",
      "\u001b[1;32m<ipython-input-9-dd34f9bf8381>\u001b[0m in \u001b[0;36mscopeTest\u001b[1;34m()\u001b[0m\n\u001b[0;32m      4\u001b[0m \u001b[1;33m\u001b[0m\u001b[0m\n\u001b[0;32m      5\u001b[0m \u001b[1;32mdef\u001b[0m \u001b[0mscopeTest\u001b[0m\u001b[1;33m(\u001b[0m\u001b[1;33m)\u001b[0m\u001b[1;33m:\u001b[0m\u001b[1;33m\u001b[0m\u001b[0m\n\u001b[1;32m----> 6\u001b[1;33m     \u001b[0mnumber\u001b[0m \u001b[1;33m+=\u001b[0m \u001b[1;36m1\u001b[0m     \u001b[1;31m# not accessible due to function level scope\u001b[0m\u001b[1;33m\u001b[0m\u001b[0m\n\u001b[0m\u001b[0;32m      7\u001b[0m \u001b[1;33m\u001b[0m\u001b[0m\n\u001b[0;32m      8\u001b[0m \u001b[0mscopeTest\u001b[0m\u001b[1;33m(\u001b[0m\u001b[1;33m)\u001b[0m\u001b[1;33m\u001b[0m\u001b[0m\n",
      "\u001b[1;31mUnboundLocalError\u001b[0m: local variable 'number' referenced before assignment"
     ]
    }
   ],
   "source": [
    "# where global variables can be accessed\n",
    "\n",
    "number = 5\n",
    "\n",
    "def scopeTest():\n",
    "    number += 1     # not accessible due to function level scope\n",
    "    \n",
    "scopeTest()"
   ]
  },
  {
   "cell_type": "code",
   "execution_count": 23,
   "metadata": {},
   "outputs": [
    {
     "name": "stdout",
     "output_type": "stream",
     "text": [
      "function\n"
     ]
    }
   ],
   "source": [
    "# accessing variables defined in a function\n",
    "\n",
    "def scopeTest():\n",
    "    word = 'function'\n",
    "    return word\n",
    "\n",
    "value = scopeTest()\n",
    "\n",
    "print(value)"
   ]
  },
  {
   "cell_type": "code",
   "execution_count": 27,
   "metadata": {},
   "outputs": [
    {
     "name": "stdout",
     "output_type": "stream",
     "text": [
      "Before Altering: ['baseball', 'football', 'hockey', 'basketball']\n",
      "After Altering: ['soccer', 'football', 'hockey', 'basketball']\n"
     ]
    }
   ],
   "source": [
    "# changing list item values by index\n",
    "\n",
    "sports = ['baseball', 'football', 'hockey', 'basketball']\n",
    "\n",
    "def change(aList):\n",
    "    aList[0] = 'soccer'\n",
    "    \n",
    "print('Before Altering: {}'.format(sports))\n",
    "\n",
    "change(sports)\n",
    "\n",
    "print('After Altering: {}'.format(sports))"
   ]
  },
  {
   "cell_type": "markdown",
   "metadata": {},
   "source": [
    "# Friday Project: Creating a Shopping Cart"
   ]
  },
  {
   "cell_type": "code",
   "execution_count": 7,
   "metadata": {},
   "outputs": [
    {
     "name": "stdout",
     "output_type": "stream",
     "text": [
      "Your cart is empty.\n"
     ]
    }
   ],
   "source": [
    "# import necessary functions\n",
    "from IPython.display import clear_output\n",
    "\n",
    "# global list variable\n",
    "cart = []\n",
    "\n",
    "# create function to add items to cart\n",
    "def addItem(item):\n",
    "    clear_output()\n",
    "    cart.append(item)\n",
    "    print('{} has been added.'.format(item))\n",
    "\n",
    "# create function to remove items from cart\n",
    "def removeItem(item):\n",
    "    clear_output()\n",
    "    try:\n",
    "        cart.remove(item)\n",
    "        print('{} has been removed.'.format(item))\n",
    "    except:\n",
    "        print('Sorry we could not remove that item.')\n",
    "        \n",
    "# create function to show items in cart\n",
    "def showCart():\n",
    "    clear_output()\n",
    "    if cart:\n",
    "        print('Here is your cart:')\n",
    "        for item in cart:\n",
    "            print('- {}'.format(item))\n",
    "    else:\n",
    "        print('Your cart is empty.')\n",
    "\n",
    "# create function to clear items from cart\n",
    "def clearCart():\n",
    "    clear_output()\n",
    "    cart.clear()\n",
    "    print('Your cart is empty.')\n",
    "\n",
    "# create main function that loops until the user quits\n",
    "def main():\n",
    "    done = False\n",
    "    \n",
    "    while not done:\n",
    "        ans = input('quit/add/remove/show/clear: ').lower()\n",
    "        \n",
    "        # base case\n",
    "        if ans == 'quit':\n",
    "            print('Thanks for using our program.')\n",
    "            showCart()\n",
    "            done = True\n",
    "        elif ans == 'add':\n",
    "            item = input('What would you like to add? ').title()\n",
    "            addItem(item)\n",
    "        elif ans == 'remove':\n",
    "            showCart()\n",
    "            item = input('What item would you like to remove? ').title()\n",
    "            removeItem(item)\n",
    "        elif ans == 'show':\n",
    "            showCart()\n",
    "        elif ans == 'clear':\n",
    "            clearCart()\n",
    "        else:\n",
    "            print('Sorry that was not an option.')\n",
    "\n",
    "main()       # run the program"
   ]
  },
  {
   "cell_type": "markdown",
   "metadata": {},
   "source": [
    "# Monday Exercises - Answers"
   ]
  },
  {
   "cell_type": "markdown",
   "metadata": {},
   "source": [
    "<p>\n",
    "1. <b>Print Name:</b> Define a function called myName, and have it print out your name when called.\n",
    "</p>"
   ]
  },
  {
   "cell_type": "code",
   "execution_count": 1,
   "metadata": {},
   "outputs": [
    {
     "name": "stdout",
     "output_type": "stream",
     "text": [
      "Connor P. Milliken\n"
     ]
    }
   ],
   "source": [
    "def myName():\n",
    "    print(\"Connor P. Milliken\")\n",
    "    \n",
    "myName()"
   ]
  },
  {
   "cell_type": "markdown",
   "metadata": {},
   "source": [
    "<p>\n",
    "2. <b>Pizza Toppings:</b> Define a function that prints out all your favorite pizza toppings called pizzaToppings. Call the function three times.\n",
    "</p>"
   ]
  },
  {
   "cell_type": "code",
   "execution_count": 2,
   "metadata": {},
   "outputs": [
    {
     "name": "stdout",
     "output_type": "stream",
     "text": [
      "Cheese, Bacon\n",
      "Cheese, Bacon\n",
      "Cheese, Bacon\n"
     ]
    }
   ],
   "source": [
    "def pizzaToppings():\n",
    "    print(\"Cheese, Bacon\")\n",
    "    \n",
    "pizzaToppings()\n",
    "pizzaToppings()\n",
    "pizzaToppings()"
   ]
  },
  {
   "cell_type": "markdown",
   "metadata": {},
   "source": [
    "# Tuesday Exercises - Answers"
   ]
  },
  {
   "cell_type": "markdown",
   "metadata": {},
   "source": [
    "<p>\n",
    "1. <b>User Input:</b> Ask the user to input a word and pass that word into a function that checks if the word starts with an uppercase. If it does output \"True\" otherwise \"False\".\n",
    "</p>"
   ]
  },
  {
   "cell_type": "code",
   "execution_count": 4,
   "metadata": {},
   "outputs": [
    {
     "name": "stdout",
     "output_type": "stream",
     "text": [
      "Enter a word: yes\n",
      "False\n"
     ]
    }
   ],
   "source": [
    "def checkUppercase(word):\n",
    "    if word[0] == word[0].upper():\n",
    "        print(True)\n",
    "    else:\n",
    "        print(False)\n",
    "        \n",
    "ans = input(\"Enter a word: \")\n",
    "\n",
    "checkUppercase(ans)"
   ]
  },
  {
   "cell_type": "markdown",
   "metadata": {},
   "source": [
    "<p>\n",
    "2. <b>No Name:</b> Define a function that takes in two arguments; first_name, last_name and makes both optional. If no values are passed into the parameters, it should output \"No name passed in\", otherwise it should print out the name.\n",
    "</p>"
   ]
  },
  {
   "cell_type": "code",
   "execution_count": 6,
   "metadata": {},
   "outputs": [
    {
     "name": "stdout",
     "output_type": "stream",
     "text": [
      "No name passed in.\n",
      "Connor \n",
      "Connor Milliken\n"
     ]
    }
   ],
   "source": [
    "def outputName(first_name='', last_name=''):\n",
    "    if not first_name and not last_name:\n",
    "        print(\"No name passed in.\")\n",
    "    else:\n",
    "        print(first_name, last_name)\n",
    "        \n",
    "outputName()\n",
    "outputName('Connor')\n",
    "outputName('Connor', 'Milliken')"
   ]
  },
  {
   "cell_type": "markdown",
   "metadata": {},
   "source": [
    "# Wednesday Exercises - Answers"
   ]
  },
  {
   "cell_type": "markdown",
   "metadata": {},
   "source": [
    "<p>\n",
    "1. <b>Full Name:</b> Create a function that takes in a first and last name and returns the two names joined together.\n",
    "</p>"
   ]
  },
  {
   "cell_type": "code",
   "execution_count": 7,
   "metadata": {},
   "outputs": [
    {
     "data": {
      "text/plain": [
       "'Connor Milliken'"
      ]
     },
     "execution_count": 7,
     "metadata": {},
     "output_type": "execute_result"
    }
   ],
   "source": [
    "def combineNames(first, last):\n",
    "    return first + ' ' + last\n",
    "\n",
    "combineNames('Connor', 'Milliken')"
   ]
  },
  {
   "cell_type": "markdown",
   "metadata": {},
   "source": [
    "<p>\n",
    "2. <b>User Input:</b> Within a function, ask for user input. Have this function return that input to be stored in a variable outside of the function. Then print out the input.\n",
    "</p>"
   ]
  },
  {
   "cell_type": "code",
   "execution_count": 8,
   "metadata": {},
   "outputs": [
    {
     "name": "stdout",
     "output_type": "stream",
     "text": [
      "Enter a word: Hello!\n",
      "Hello!\n"
     ]
    }
   ],
   "source": [
    "def returnFunc():\n",
    "    return input('Enter a word: ')\n",
    "\n",
    "ans = returnFunc()\n",
    "\n",
    "print(ans)"
   ]
  },
  {
   "cell_type": "markdown",
   "metadata": {},
   "source": [
    "# Thursday Exercises - Answers"
   ]
  },
  {
   "cell_type": "markdown",
   "metadata": {},
   "source": [
    "<p>\n",
    "1. <b>Names:</b> Create a function that will change the list passed in with a parameter of name at a given index. Such that if I were to pass in \"Bill\" and index 1 it would change \"Rich\" to \"Bill\". Use the list and function definition below:\n",
    "</p>\n",
    "\n",
    "<p>\n",
    ">>> names = [\"Bob\", \"Rich\", \"Amanda\"] <br>\n",
    ">>> def changeValue(aList, name, index):\n",
    "</p>"
   ]
  },
  {
   "cell_type": "code",
   "execution_count": 11,
   "metadata": {},
   "outputs": [
    {
     "name": "stdout",
     "output_type": "stream",
     "text": [
      "['Bob', 'Bill', 'Amanda']\n"
     ]
    }
   ],
   "source": [
    "names = [\"Bob\", \"Rich\", \"Amanda\"]\n",
    "\n",
    "def changeValue(aList, name, index):\n",
    "    aList[index] = name\n",
    "    \n",
    "changeValue(names, \"Bill\", 1)\n",
    "\n",
    "print(names)"
   ]
  },
  {
   "cell_type": "markdown",
   "metadata": {},
   "source": [
    "# End of Week Exercises - Answers"
   ]
  },
  {
   "cell_type": "markdown",
   "metadata": {},
   "source": [
    "<p>\n",
    "1. <b>Re-Factor Hangman:</b> This is a large task, so tread lightly, but try to re-factor the Hangman project from last week to use functions. Think about what actions Hangman requires and turn those tasks into functions.\n",
    "</p>"
   ]
  },
  {
   "cell_type": "code",
   "execution_count": 1,
   "metadata": {},
   "outputs": [
    {
     "name": "stdout",
     "output_type": "stream",
     "text": [
      "You guessed correctly!\n",
      "Congratulations, you guessed it correctly!\n"
     ]
    }
   ],
   "source": [
    "# import additional functions\n",
    "from random import choice\n",
    "from IPython.display import clear_output\n",
    "\n",
    "\n",
    "def checkGameCondition(lives, guesses, word):\n",
    "    if lives <= 0:\n",
    "        print('You lost all your lives, you lost!')\n",
    "        return True\n",
    "    elif word == ''.join(guesses):\n",
    "        print('Congratulations, you guessed it correctly!')\n",
    "        return True\n",
    "        \n",
    "    return False\n",
    "\n",
    "def checkGuess(ans, word, guesses, guessed, lives):\n",
    "    game_over = False\n",
    "    \n",
    "    if ans == 'quit':\n",
    "        print('Thanks for playing.')\n",
    "        game_over = True\n",
    "    elif ans in word and ans not in guessed:\n",
    "        print('You guessed correctly!')\n",
    "\n",
    "        # create a loop to change underscore to proper letter\n",
    "        for i in range(len(word)):\n",
    "            if word[i] == ans:\n",
    "                guesses[i] = ans\n",
    "    elif ans in guessed:\n",
    "        print('You already guessed that. Try again.')\n",
    "    else:                 # otherwise lose life\n",
    "        lives -= 1\n",
    "        print('Incorrect, you lost a life.')\n",
    "\n",
    "    if ans not in guessed:\n",
    "        guessed.append(ans)    # add guess to guessed list\n",
    "        \n",
    "    return game_over, guesses, guessed, lives\n",
    "\n",
    "def outputGameInfo(guesses, guessed, lives):\n",
    "    hidden_word = ''.join(guesses)\n",
    "    print('Your guessed letters: {}'.format(guessed))\n",
    "    print('Word to guess: {}'.format(hidden_word))\n",
    "    print('Lives: {}'.format(lives))\n",
    "\n",
    "\n",
    "\n",
    "def gamePlay():\n",
    "    # declare game variables\n",
    "    words = ['tree', 'basket', 'chair', 'paper', 'python']\n",
    "    word = choice(words)\n",
    "    guessed, lives, game_over = [], 7, False\n",
    "\n",
    "    # create a list of underscores to the length of the word\n",
    "    guesses = ['_ '] * len(word)\n",
    "\n",
    "    # create main game loop\n",
    "    while not game_over:\n",
    "        # output game information\n",
    "        outputGameInfo(guesses, guessed, lives)\n",
    "\n",
    "        ans = input('Type quit or guess a letter: ').lower()\n",
    "\n",
    "        clear_output()     # clear all previous output\n",
    "\n",
    "        game_over, guesses, guessed, lives = checkGuess(ans, word, guesses, guessed, lives)\n",
    "\n",
    "        game_over = checkGameCondition(lives, guesses, word)\n",
    "            \n",
    "gamePlay()"
   ]
  },
  {
   "cell_type": "markdown",
   "metadata": {},
   "source": [
    "<p>\n",
    "2. <b>Removing by Index:</b> In the shopping cart program, setup the remove function so that you can remove via the index as well. Set the list up so that it prints out as a numbered list, and when asked to remove an item the user can also type out a number next to the list item. For example, using the following you can type '1' to remove \"Grapes\":\n",
    "</p>\n",
    "\n",
    "<p>\n",
    ">>> 1) Grapes <br>\n",
    ">>> What would you like to remove? 1\n",
    "</p>"
   ]
  },
  {
   "cell_type": "code",
   "execution_count": 18,
   "metadata": {},
   "outputs": [
    {
     "name": "stdout",
     "output_type": "stream",
     "text": [
      "Here is your cart:\n",
      "1) Hat\n"
     ]
    }
   ],
   "source": [
    "# import necessary functions\n",
    "from IPython.display import clear_output\n",
    "\n",
    "# global list variable\n",
    "cart = []\n",
    "\n",
    "# create function to add items to cart\n",
    "def addItem(item):\n",
    "    clear_output()\n",
    "    cart.append(item)\n",
    "    print('{} has been added.'.format(item))\n",
    "\n",
    "# create function to remove items from cart\n",
    "def removeItem(item):\n",
    "    clear_output()\n",
    "    try:\n",
    "        if item.isdigit():\n",
    "            item_removed = cart.pop(int(item) - 1)\n",
    "            print('{} has been removed.'.format(item_removed))\n",
    "        else:\n",
    "            cart.remove(item)\n",
    "            print('{} has been removed.'.format(item))\n",
    "    except:\n",
    "        print('Sorry we could not remove that item.')\n",
    "        \n",
    "# create function to show items in cart\n",
    "def showCart():\n",
    "    clear_output()\n",
    "    if cart:\n",
    "        print('Here is your cart:')\n",
    "        for i in range(len(cart)):\n",
    "            print('{}) {}'.format(i + 1, cart[i]))\n",
    "    else:\n",
    "        print('Your cart is empty.')\n",
    "\n",
    "# create function to clear items from cart\n",
    "def clearCart():\n",
    "    clear_output()\n",
    "    cart.clear()\n",
    "    print('Your cart is empty.')\n",
    "\n",
    "# create main function that loops until the user quits\n",
    "def main():\n",
    "    done = False\n",
    "    \n",
    "    while not done:\n",
    "        ans = input('quit/add/remove/show/clear: ').lower()\n",
    "        \n",
    "        # base case\n",
    "        if ans == 'quit':\n",
    "            print('Thanks for using our program.')\n",
    "            showCart()\n",
    "            done = True\n",
    "        elif ans == 'add':\n",
    "            item = input('What would you like to add? ').title()\n",
    "            addItem(item)\n",
    "        elif ans == 'remove':\n",
    "            showCart()\n",
    "            item = input('What item would you like to remove? ').title()\n",
    "            removeItem(item)\n",
    "        elif ans == 'show':\n",
    "            showCart()\n",
    "        elif ans == 'clear':\n",
    "            clearCart()\n",
    "        else:\n",
    "            print('Sorry that was not an option.')\n",
    "\n",
    "main()       # run the program"
   ]
  }
 ],
 "metadata": {
  "kernelspec": {
   "display_name": "Python 3",
   "language": "python",
   "name": "python3"
  },
  "language_info": {
   "codemirror_mode": {
    "name": "ipython",
    "version": 3
   },
   "file_extension": ".py",
   "mimetype": "text/x-python",
   "name": "python",
   "nbconvert_exporter": "python",
   "pygments_lexer": "ipython3",
   "version": "3.8.5"
  }
 },
 "nbformat": 4,
 "nbformat_minor": 2
}
