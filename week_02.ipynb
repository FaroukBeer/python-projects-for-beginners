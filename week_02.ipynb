{
 "cells": [
  {
   "cell_type": "markdown",
   "metadata": {},
   "source": [
    "# Python Basics"
   ]
  },
  {
   "cell_type": "markdown",
   "metadata": {},
   "source": [
    "# Comments & Basic Data Types"
   ]
  },
  {
   "cell_type": "code",
   "execution_count": 1,
   "metadata": {
    "scrolled": true
   },
   "outputs": [
    {
     "data": {
      "text/plain": [
       "'\\nComments are like notes that you leave behind, either for yourself or someone else to read.\\nThey are not read in by the interpreter, meaning that you can write whatever you want, and\\nthe computer will ignore it. A good comment will be short, easy to read, and to the point.\\nPutting a comment on every line is tedious, but not putting any comments at all is bad\\npractice. As you program, you’ll begin to understand what that happy medium looks like.\\n\\n'"
      ]
     },
     "execution_count": 1,
     "metadata": {},
     "output_type": "execute_result"
    }
   ],
   "source": [
    "'''\n",
    "Comments are like notes that you leave behind, either for yourself or someone else to read.\n",
    "They are not read in by the interpreter, meaning that you can write whatever you want, and\n",
    "the computer will ignore it. A good comment will be short, easy to read, and to the point.\n",
    "Putting a comment on every line is tedious, but not putting any comments at all is bad\n",
    "practice. As you program, you’ll begin to understand what that happy medium looks like.\n",
    "\n",
    "'''"
   ]
  },
  {
   "cell_type": "markdown",
   "metadata": {},
   "source": [
    "# Data Types"
   ]
  },
  {
   "cell_type": "code",
   "execution_count": null,
   "metadata": {},
   "outputs": [],
   "source": [
    "'''\n",
    "Data type examples\n",
    "Data Types Sample Value Description\n",
    "Integer 5 Whole numbers\n",
    "Float 5.7 Decimal numbers\n",
    "Boolean True True or False values\n",
    "String “Hello” Characters within quotes\n",
    "\n",
    "'''"
   ]
  },
  {
   "cell_type": "markdown",
   "metadata": {},
   "source": [
    "# Integers "
   ]
  },
  {
   "cell_type": "code",
   "execution_count": 2,
   "metadata": {},
   "outputs": [
    {
     "name": "stdout",
     "output_type": "stream",
     "text": [
      "2\n",
      "9\n"
     ]
    }
   ],
   "source": [
    "print(2)\n",
    "print(9)"
   ]
  },
  {
   "cell_type": "markdown",
   "metadata": {},
   "source": [
    "# Floats"
   ]
  },
  {
   "cell_type": "code",
   "execution_count": 4,
   "metadata": {},
   "outputs": [
    {
     "name": "stdout",
     "output_type": "stream",
     "text": [
      "12.4\n",
      "3.14\n",
      "8.0\n"
     ]
    }
   ],
   "source": [
    "print(12.4)\n",
    "print(3.14)\n",
    "print(8.0) # event this is a float number"
   ]
  },
  {
   "cell_type": "markdown",
   "metadata": {},
   "source": [
    "# Booleans"
   ]
  },
  {
   "cell_type": "code",
   "execution_count": 5,
   "metadata": {},
   "outputs": [
    {
     "name": "stdout",
     "output_type": "stream",
     "text": [
      "True\n",
      "False\n"
     ]
    }
   ],
   "source": [
    "# the following are booleans\n",
    "print(True)\n",
    "print(False)"
   ]
  },
  {
   "cell_type": "markdown",
   "metadata": {},
   "source": [
    "# Strings"
   ]
  },
  {
   "cell_type": "code",
   "execution_count": 8,
   "metadata": {},
   "outputs": [
    {
     "name": "stdout",
     "output_type": "stream",
     "text": [
      " \n",
      "There's a snake in my boot!\n",
      "True\n",
      "<class 'str'>\n"
     ]
    }
   ],
   "source": [
    "# the following are strings\n",
    "print(\" \")\n",
    "print(\"There's a snake in my boot!\")\n",
    "print('True')\n",
    "print(type(\"4\"))"
   ]
  },
  {
   "cell_type": "markdown",
   "metadata": {},
   "source": [
    "# Variables"
   ]
  },
  {
   "cell_type": "code",
   "execution_count": null,
   "metadata": {},
   "outputs": [],
   "source": [
    "'''\n",
    "How They Work\n",
    "We declare a name on the left side of the equals operator (“=”), and on the right side, we\n",
    "assign the value that we want to save to use later. Take the following example (no need to\n",
    "write this):\n",
    ">>> first_name = \"Julia & Tim\"\n",
    "\n",
    "When you create a variable, the line where you assign the value is a step called\n",
    "declaration. We’ve just declared a variable with a name of “first_name” and assigned it\n",
    "the value of the string data type “John”. This string is now stored in memory, and we’re\n",
    "able to access it by calling the variable name “first_name”.\n",
    "\n",
    "Note Variable names can contain only letters, underscores, and numbers;\n",
    "however, they cannot start with a number.\n",
    "\n",
    "'''"
   ]
  },
  {
   "cell_type": "markdown",
   "metadata": {},
   "source": [
    "# Integer and Float Variables"
   ]
  },
  {
   "cell_type": "code",
   "execution_count": 11,
   "metadata": {},
   "outputs": [
    {
     "name": "stdout",
     "output_type": "stream",
     "text": [
      "5 8.4\n"
     ]
    }
   ],
   "source": [
    "num1 = 5 # storing an integer into a variable\n",
    "num2 = 8.4 # storing a float into a variable\n",
    "print(num1, num2) # you can print multiple items using commas"
   ]
  },
  {
   "cell_type": "markdown",
   "metadata": {},
   "source": [
    "# Boolean Variables"
   ]
  },
  {
   "cell_type": "code",
   "execution_count": 12,
   "metadata": {},
   "outputs": [
    {
     "name": "stdout",
     "output_type": "stream",
     "text": [
      "False\n"
     ]
    }
   ],
   "source": [
    "# storing a boolean into a variable\n",
    "switch = True\n",
    "print( not switch)"
   ]
  },
  {
   "cell_type": "markdown",
   "metadata": {},
   "source": [
    "# String Variables"
   ]
  },
  {
   "cell_type": "code",
   "execution_count": null,
   "metadata": {},
   "outputs": [],
   "source": [
    "# storing strings into a variable\n",
    "name = \"Julia & Tim\"\n",
    "fav_number = \"7\"\n",
    "print(name, fav_number) # will print 9 next to the name"
   ]
  },
  {
   "cell_type": "markdown",
   "metadata": {},
   "source": [
    "# Using Multiple Variables"
   ]
  },
  {
   "cell_type": "code",
   "execution_count": 13,
   "metadata": {},
   "outputs": [
    {
     "name": "stdout",
     "output_type": "stream",
     "text": [
      "13.4\n"
     ]
    }
   ],
   "source": [
    "# using two variables to create another variable\n",
    "result = num1 + num2\n",
    "print(result)"
   ]
  },
  {
   "cell_type": "markdown",
   "metadata": {},
   "source": [
    "# Using Operators on Numerical Variables"
   ]
  },
  {
   "cell_type": "code",
   "execution_count": 14,
   "metadata": {},
   "outputs": [
    {
     "name": "stdout",
     "output_type": "stream",
     "text": [
      "14.4\n",
      "72.0\n"
     ]
    }
   ],
   "source": [
    "# adding, deleting, multiplying, dividing from a variable\n",
    "result += 1 # same as saying result = result + 1\n",
    "print(result)\n",
    "result *= num1 # same as saying result = result * num1\n",
    "print(result)"
   ]
  },
  {
   "cell_type": "markdown",
   "metadata": {},
   "source": [
    "# Overwriting Previously Created Variables"
   ]
  },
  {
   "cell_type": "code",
   "execution_count": 16,
   "metadata": {},
   "outputs": [
    {
     "name": "stdout",
     "output_type": "stream",
     "text": [
      "Julia Behar\n",
      "Tim Behar\n"
     ]
    }
   ],
   "source": [
    "# defining a variable and overwriting it's value\n",
    "name = \"Julia Behar\"\n",
    "print(name)\n",
    "name = \"Tim Behar\"\n",
    "print(name)"
   ]
  },
  {
   "cell_type": "markdown",
   "metadata": {},
   "source": [
    "# Whitespace"
   ]
  },
  {
   "cell_type": "code",
   "execution_count": 18,
   "metadata": {},
   "outputs": [
    {
     "name": "stdout",
     "output_type": "stream",
     "text": [
      "Julia Tim\n"
     ]
    }
   ],
   "source": [
    "'''\n",
    "Whitespace just means characters which are used for spacing and have an “empty”\n",
    "representation. In the context of python, it means tabs and spaces. For example:\n",
    "\n",
    "'''\n",
    "name = \"Julia Tim\"\n",
    "print(name)"
   ]
  },
  {
   "cell_type": "markdown",
   "metadata": {},
   "source": [
    "# Working with Strings"
   ]
  },
  {
   "cell_type": "markdown",
   "metadata": {},
   "source": [
    "# String Concatenation"
   ]
  },
  {
   "cell_type": "code",
   "execution_count": 19,
   "metadata": {},
   "outputs": [
    {
     "name": "stdout",
     "output_type": "stream",
     "text": [
      "Julia Behar\n"
     ]
    }
   ],
   "source": [
    "# using the addition operator without variables\n",
    "name = \"Julia\" + \" \" + \"Behar\"\n",
    "print(name)"
   ]
  },
  {
   "cell_type": "code",
   "execution_count": 20,
   "metadata": {},
   "outputs": [
    {
     "name": "stdout",
     "output_type": "stream",
     "text": [
      "Tim Behar\n"
     ]
    }
   ],
   "source": [
    "# using the addition operator with variables\n",
    "first_name = \"Tim\"\n",
    "last_name = \"Behar\"\n",
    "full_name = first_name + \" \" + last_name\n",
    "print(full_name)"
   ]
  },
  {
   "cell_type": "markdown",
   "metadata": {},
   "source": [
    "# Formatting Strings"
   ]
  },
  {
   "cell_type": "code",
   "execution_count": 21,
   "metadata": {},
   "outputs": [
    {
     "name": "stdout",
     "output_type": "stream",
     "text": [
      "Hello John\n",
      "Hello John, you are 28 years old!\n"
     ]
    }
   ],
   "source": [
    "# injecting variables using the f string\n",
    "name = \"John\"\n",
    "print( f\"Hello {name}\")\n",
    "print( f\"Hello {name}, you are {28} years old!\")"
   ]
  },
  {
   "cell_type": "markdown",
   "metadata": {},
   "source": [
    "# String Index"
   ]
  },
  {
   "cell_type": "code",
   "execution_count": 25,
   "metadata": {},
   "outputs": [
    {
     "name": "stdout",
     "output_type": "stream",
     "text": [
      "H\n",
      "l\n",
      "o\n",
      "l\n"
     ]
    }
   ],
   "source": [
    "# using indexes to print each element\n",
    "word = \"Hello\"\n",
    "print( word[ 0 ] ) # will output 'H'\n",
    "print( word[ 2 ] ) # will output 'e'\n",
    "print( word[ -1 ] ) # will output 'o'\n",
    "print( word[ -3 ] ) # will output 'l'"
   ]
  },
  {
   "cell_type": "markdown",
   "metadata": {},
   "source": [
    "# String Slicing"
   ]
  },
  {
   "cell_type": "code",
   "execution_count": 31,
   "metadata": {},
   "outputs": [
    {
     "name": "stdout",
     "output_type": "stream",
     "text": [
      "Jul\n",
      "li\n",
      "Jla\n"
     ]
    }
   ],
   "source": [
    "name = \"Julia\"\n",
    "print(name[0:3])\n",
    "print(name[-3:-1])\n",
    "print(name[0:5:2])"
   ]
  },
  {
   "cell_type": "markdown",
   "metadata": {},
   "source": [
    "# String Manipulation"
   ]
  },
  {
   "cell_type": "code",
   "execution_count": 33,
   "metadata": {},
   "outputs": [
    {
     "name": "stdout",
     "output_type": "stream",
     "text": [
      "Julia & Tim\n",
      "JULIA & TIM\n",
      "julia & tim\n"
     ]
    }
   ],
   "source": [
    "# using the title method to capitalize a string\n",
    "name = \"julia & tim\"\n",
    "print( name.title( ))\n",
    "print( name.upper( ))\n",
    "print( name.lower( ))"
   ]
  },
  {
   "cell_type": "code",
   "execution_count": 35,
   "metadata": {},
   "outputs": [
    {
     "name": "stdout",
     "output_type": "stream",
     "text": [
      "Hello there.\n"
     ]
    }
   ],
   "source": [
    "# replacing an exclamation point with a period\n",
    "words = \"Hello there!\"\n",
    "print( words.replace( \"!\", \".\" ))"
   ]
  },
  {
   "cell_type": "code",
   "execution_count": 37,
   "metadata": {},
   "outputs": [
    {
     "name": "stdout",
     "output_type": "stream",
     "text": [
      "5\n"
     ]
    }
   ],
   "source": [
    "# finding the starting index of our searched term\n",
    "words = \"Look over that way\"\n",
    "print( words.find(\"over\"))"
   ]
  },
  {
   "cell_type": "code",
   "execution_count": 1,
   "metadata": {},
   "outputs": [
    {
     "name": "stdout",
     "output_type": "stream",
     "text": [
      "$$john\n",
      "$$john  \n",
      "  $$john\n"
     ]
    }
   ],
   "source": [
    "# removing white space with strip\n",
    "name = \"  $$john  \"\n",
    "x = name.strip()\n",
    "print(x)\n",
    "print( name.lstrip( ))\n",
    "print( name.rstrip( ))"
   ]
  },
  {
   "cell_type": "code",
   "execution_count": 40,
   "metadata": {},
   "outputs": [
    {
     "name": "stdout",
     "output_type": "stream",
     "text": [
      "['These', 'words', 'are', 'separated', 'by', 'spaces']\n"
     ]
    }
   ],
   "source": [
    "# converting a string into a list of words\n",
    "s = \"These words are separated by spaces\"\n",
    "print( s.split(\" \"))"
   ]
  },
  {
   "cell_type": "code",
   "execution_count": 41,
   "metadata": {},
   "outputs": [
    {
     "name": "stdout",
     "output_type": "stream",
     "text": [
      "Help on built-in function strip:\n",
      "\n",
      "strip(chars=None, /) method of builtins.str instance\n",
      "    Return a copy of the string with leading and trailing whitespace removed.\n",
      "    \n",
      "    If chars is given and not None, remove characters in chars instead.\n",
      "\n"
     ]
    }
   ],
   "source": [
    " help(\" \".strip)"
   ]
  },
  {
   "cell_type": "markdown",
   "metadata": {},
   "source": [
    "# Creating a Receipt Printing Program"
   ]
  },
  {
   "cell_type": "code",
   "execution_count": 94,
   "metadata": {},
   "outputs": [
    {
     "name": "stdout",
     "output_type": "stream",
     "text": [
      "************************************************************\n",
      "\n",
      "\t\t\tWhole Food\n",
      "\t\t\tMaryland\n",
      "\t\t\tColumbia Md, 213 St\n",
      "\n",
      "============================================================\n",
      "\t\tProducts name  Products price\n",
      "\n",
      "\t\tApple:\t3 $\n",
      "\t\tBanana:\t5 $\n",
      "\t\tMouse:\t69.99 $\n",
      "\n",
      "============================================================\n",
      "\n",
      "\t\t\t Total\n",
      "\t\t\t 77.99\n",
      "\n",
      "============================================================\n",
      "\n",
      "\t  Thank you for shopping with us today!\n",
      "\n",
      "************************************************************\n"
     ]
    }
   ],
   "source": [
    "# create the top line\n",
    "print(\"*\"*60)\n",
    "# declaring company name, state & adress \n",
    "company_name = (\"whole food\").title()\n",
    "state = \"maryland\".title()\n",
    "adress = \"columbia md, 213 st\".title()\n",
    "print(f\"\\n\\t\\t\\t{company_name}\")\n",
    "print(f\"\\t\\t\\t{state}\")\n",
    "print(f\"\\t\\t\\t{adress}\\n\")\n",
    "# create the middle line\n",
    "print(\"=\"*60)\n",
    "# declaring products name & prices\n",
    "p_name01, p_name02, p_name03 = \"apple\", \"banana\", \"mouse\"\n",
    "p_price01, p_price02, p_price03 = 3, 5, 69.99\n",
    "print(\"\\t\\tProducts name  Products price\")\n",
    "print(f\"\\n\\t\\t{p_name01.title()}:\\t{p_price01} $\")\n",
    "print(f\"\\t\\t{p_name02.title()}:\\t{p_price02} $\")\n",
    "print(f\"\\t\\t{p_name03.title()}:\\t{p_price03} $\\n\")\n",
    "# create the middle line\n",
    "print(\"=\"*60)\n",
    "# total prices\n",
    "total = p_price01 + p_price02 + p_price03\n",
    "print(\"\\n\\t\\t\\t Total\")\n",
    "print(f\"\\t\\t\\t {total}\\n\")\n",
    "# create the middle line\n",
    "print(\"=\"*60)\n",
    "# message\n",
    "message = \"Thank you for shopping with us today!\"\n",
    "print(f\"\\n\\t  {message}\\n\")\n",
    "# bottom line\n",
    "print(\"*\"*60)"
   ]
  },
  {
   "cell_type": "code",
   "execution_count": null,
   "metadata": {},
   "outputs": [],
   "source": []
  }
 ],
 "metadata": {
  "kernelspec": {
   "display_name": "Python 3",
   "language": "python",
   "name": "python3"
  },
  "language_info": {
   "codemirror_mode": {
    "name": "ipython",
    "version": 3
   },
   "file_extension": ".py",
   "mimetype": "text/x-python",
   "name": "python",
   "nbconvert_exporter": "python",
   "pygments_lexer": "ipython3",
   "version": "3.8.5"
  }
 },
 "nbformat": 4,
 "nbformat_minor": 4
}
