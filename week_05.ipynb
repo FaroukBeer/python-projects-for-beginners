{
 "cells": [
  {
   "cell_type": "markdown",
   "metadata": {},
   "source": [
    "# Creating & Calling Functions"
   ]
  },
  {
   "cell_type": "code",
   "execution_count": 1,
   "metadata": {},
   "outputs": [],
   "source": [
    "# writing your first function\n",
    "def printinfo():\n",
    "    print(\"Name: Julia\")\n",
    "    print(\"Age: 3 years\")"
   ]
  },
  {
   "cell_type": "code",
   "execution_count": 4,
   "metadata": {},
   "outputs": [
    {
     "name": "stdout",
     "output_type": "stream",
     "text": [
      "Name: Julia\n",
      "Age: 3 years\n",
      "Name: Julia\n",
      "Age: 3 years\n"
     ]
    }
   ],
   "source": [
    "printinfo()\n",
    "printinfo()"
   ]
  },
  {
   "cell_type": "code",
   "execution_count": 6,
   "metadata": {},
   "outputs": [
    {
     "name": "stdout",
     "output_type": "stream",
     "text": [
      "15\n"
     ]
    }
   ],
   "source": [
    "# performing a calculation in a function\n",
    "def calc( ):\n",
    "    x, y = 5, 10\n",
    "    print(x + y)\n",
    "calc( ) # will run the block of code within calc and output 15"
   ]
  },
  {
   "cell_type": "markdown",
   "metadata": {},
   "source": [
    "# Parameters"
   ]
  },
  {
   "cell_type": "code",
   "execution_count": 8,
   "metadata": {},
   "outputs": [
    {
     "name": "stdout",
     "output_type": "stream",
     "text": [
      "full name : Julia Behar\n"
     ]
    }
   ],
   "source": [
    "# passing a single parameter into a function\n",
    "def print_name(full_name):\n",
    "    print(f\"full name : {full_name}\")\n",
    "    \n",
    "print_name(\"Julia Behar\")"
   ]
  },
  {
   "cell_type": "code",
   "execution_count": 9,
   "metadata": {},
   "outputs": [
    {
     "name": "stdout",
     "output_type": "stream",
     "text": [
      "3 + 67 = 70\n"
     ]
    }
   ],
   "source": [
    "# passing multiple parameters into a function \n",
    "def sum_numbers(num_1, num_2):\n",
    "    result = num_1 + num_2\n",
    "    print(f\"{num_1} + {num_2} = {result}\")\n",
    "    \n",
    "sum_numbers(3, 67)"
   ]
  },
  {
   "cell_type": "code",
   "execution_count": 12,
   "metadata": {},
   "outputs": [
    {
     "name": "stdout",
     "output_type": "stream",
     "text": [
      "[4, 16, 25, 100]\n",
      "[1, 9, 36]\n"
     ]
    }
   ],
   "source": [
    "# using a function to square all information\n",
    "numbers1 = [ 2, 4, 5, 10 ]\n",
    "numbers2 = [ 1, 3, 6 ]\n",
    "def square(nums):\n",
    "    for i in range(len(nums)):\n",
    "        nums[i] = nums[i] ** 2\n",
    "    print(nums)\n",
    "    \n",
    "square(numbers1)\n",
    "square(numbers2)"
   ]
  },
  {
   "cell_type": "code",
   "execution_count": 15,
   "metadata": {},
   "outputs": [
    {
     "name": "stdout",
     "output_type": "stream",
     "text": [
      "4\n",
      "16\n",
      "25\n",
      "100\n",
      "1\n",
      "9\n",
      "36\n"
     ]
    }
   ],
   "source": [
    "# using a function to square all information\n",
    "numbers1 = [ 2, 4, 5, 10 ]\n",
    "numbers2 = [ 1, 3, 6 ]\n",
    "def squares(nums):\n",
    "    for num in nums:\n",
    "        print(num**2)\n",
    "squares(numbers1)\n",
    "squares(numbers2)"
   ]
  },
  {
   "cell_type": "code",
   "execution_count": 17,
   "metadata": {},
   "outputs": [
    {
     "name": "stdout",
     "output_type": "stream",
     "text": [
      "Area: 12.56\n"
     ]
    }
   ],
   "source": [
    "# setting default parameter values\n",
    "def calcArea(r, pi=3.14):\n",
    "    area = pi * (r**2)\n",
    "    print( f\"Area: {area }\")\n",
    "    \n",
    "calcArea(2)     # assuming radius is the value of 2"
   ]
  },
  {
   "cell_type": "code",
   "execution_count": 18,
   "metadata": {},
   "outputs": [
    {
     "name": "stdout",
     "output_type": "stream",
     "text": [
      "John Smith\n",
      "John Paul Smith\n"
     ]
    }
   ],
   "source": [
    "# setting default parameter values\n",
    "def printName(first, last, middle=\"\"):\n",
    "    if middle:\n",
    "        print( f\"{first} {middle} {last}\")\n",
    "    else:\n",
    "        print( f\"{first } {last }\")\n",
    "        \n",
    "printName(\"John\", \"Smith\")\n",
    "printName(\"John\", \"Smith\", \"Paul\")     # will output with middle name"
   ]
  },
  {
   "cell_type": "code",
   "execution_count": 20,
   "metadata": {},
   "outputs": [
    {
     "name": "stdout",
     "output_type": "stream",
     "text": [
      "2.5\n",
      "5\n"
     ]
    }
   ],
   "source": [
    "# explicity assigning values to parameters by referencing the name\n",
    "def addNums(num1, num2):\n",
    "    print(num2)\n",
    "    print(num1)\n",
    "    \n",
    "addNums(5, 2.5)"
   ]
  },
  {
   "cell_type": "code",
   "execution_count": 22,
   "metadata": {},
   "outputs": [
    {
     "name": "stdout",
     "output_type": "stream",
     "text": [
      "<class 'tuple'>\n",
      "5\n",
      "True\n",
      "Jess\n",
      "John Smith\n"
     ]
    }
   ],
   "source": [
    "# using args parameter to take in a tuple of arbitrary values\n",
    "def outputData(name, *args):\n",
    "    print( type(args) )\n",
    "    for arg in args:\n",
    "        print(arg)\n",
    "    print(name)\n",
    "        \n",
    "outputData(\"John Smith\", 5, True, \"Jess\")"
   ]
  },
  {
   "cell_type": "code",
   "execution_count": 23,
   "metadata": {},
   "outputs": [
    {
     "name": "stdout",
     "output_type": "stream",
     "text": [
      "<class 'dict'>\n",
      "{'name': 'John Smith', 'num': 5, 'b': True}\n"
     ]
    }
   ],
   "source": [
    "# using kwargs parameter to take in a dictionary of arbitrary values\n",
    "def outputData(**kwargs):\n",
    "    print( type(kwargs) )\n",
    "    print( kwargs)\n",
    "    \n",
    "outputData(name = \"John Smith\", num = 5, b = True)"
   ]
  },
  {
   "cell_type": "code",
   "execution_count": 8,
   "metadata": {},
   "outputs": [
    {
     "name": "stdout",
     "output_type": "stream",
     "text": [
      "enter a word hello\n",
      "False\n"
     ]
    }
   ],
   "source": [
    "'''\n",
    "User Input: ask the user to input a word,\n",
    "and pass that word into a function that checks if the word starts with an uppercase.\n",
    "If it does output “True”, otherwise “False”.\n",
    "'''\n",
    "\n",
    "def check(word):\n",
    "    if word[0] == word[0].upper():\n",
    "        print(True)\n",
    "    else:\n",
    "        print(False)\n",
    "\n",
    "word = input(\"enter a word \")\n",
    "\n",
    "check(word)"
   ]
  },
  {
   "cell_type": "code",
   "execution_count": 13,
   "metadata": {},
   "outputs": [
    {
     "name": "stdout",
     "output_type": "stream",
     "text": [
      "firstN : Farouk lastN : Behar\n"
     ]
    }
   ],
   "source": [
    "'''\n",
    "No Name: Define a function that takes in two arguments,\n",
    "first_name and last_ name, and makes both optional. If no values are passed into the parameters,\n",
    "it should output “No name passed in”; otherwise, it should print out the name.\n",
    "'''\n",
    "\n",
    "def print_name(first_name = \"\", last_name = \"\"):\n",
    "    if not first_name and not last_name :\n",
    "        print(\"No name passed in\")\n",
    "    else:\n",
    "        print(f\"firstN : {first_name} lastN : {last_name}\")\n",
    "        \n",
    "print_name(\"Farouk\", \"Behar\")"
   ]
  },
  {
   "cell_type": "markdown",
   "metadata": {},
   "source": [
    "# Return Statement"
   ]
  },
  {
   "cell_type": "code",
   "execution_count": 15,
   "metadata": {},
   "outputs": [
    {
     "name": "stdout",
     "output_type": "stream",
     "text": [
      "10.0\n",
      "20\n"
     ]
    }
   ],
   "source": [
    "# using return keyword to return the sum of two numbers\n",
    "\n",
    "def addNums(num1, num2):\n",
    "    return num1 + num2\n",
    "\n",
    "num = addNums(5.5, 4.5)  # saves returned value into num\n",
    "\n",
    "print(num)  \n",
    "\n",
    "print( addNums(10, 10) )  # doesn't save returned value"
   ]
  },
  {
   "cell_type": "markdown",
   "metadata": {},
   "source": [
    "# Ternary Operator"
   ]
  },
  {
   "cell_type": "code",
   "execution_count": 16,
   "metadata": {},
   "outputs": [
    {
     "name": "stdout",
     "output_type": "stream",
     "text": [
      "True\n"
     ]
    }
   ],
   "source": [
    "# shorthand syntax using a ternary operator\n",
    "def searchList(aList, el):\n",
    "    return True if el in aList else False\n",
    "\n",
    "result = searchList( [ \"one\", 2, \"three\" ], 2)\n",
    "\n",
    "print(result)"
   ]
  },
  {
   "cell_type": "code",
   "execution_count": 19,
   "metadata": {},
   "outputs": [
    {
     "data": {
      "text/plain": [
       "'Farouk Behar'"
      ]
     },
     "execution_count": 19,
     "metadata": {},
     "output_type": "execute_result"
    }
   ],
   "source": [
    "# Full Name: Create a function that takes in a first and last name and returns the two names joined together.\n",
    "def name(first_name, last_name):\n",
    "    return first_name +\" \"+ last_name\n",
    "\n",
    "name(\"Farouk\", \"Behar\")"
   ]
  },
  {
   "cell_type": "code",
   "execution_count": 25,
   "metadata": {},
   "outputs": [
    {
     "name": "stdout",
     "output_type": "stream",
     "text": [
      "enter a word: Tim\n",
      "Tim\n"
     ]
    }
   ],
   "source": [
    "'''\n",
    "User Input: Within a function, ask for user input. \n",
    "Have this function return that input to be stored in a variable outside of the function. \n",
    "Then print out the input.\n",
    "'''\n",
    "def stored_var():\n",
    "    return input(\"enter a word: \")\n",
    "\n",
    "ans = stored_var()\n",
    "\n",
    "print(ans)"
   ]
  },
  {
   "cell_type": "markdown",
   "metadata": {},
   "source": [
    "#  Scope "
   ]
  },
  {
   "cell_type": "code",
   "execution_count": 26,
   "metadata": {},
   "outputs": [
    {
     "ename": "UnboundLocalError",
     "evalue": "local variable 'number' referenced before assignment",
     "output_type": "error",
     "traceback": [
      "\u001b[0;31m---------------------------------------------------------------------------\u001b[0m",
      "\u001b[0;31mUnboundLocalError\u001b[0m                         Traceback (most recent call last)",
      "\u001b[0;32m<ipython-input-26-7aa4fe8ddcc0>\u001b[0m in \u001b[0;36m<module>\u001b[0;34m\u001b[0m\n\u001b[1;32m      3\u001b[0m \u001b[0;32mdef\u001b[0m \u001b[0mscopeTest\u001b[0m\u001b[0;34m(\u001b[0m \u001b[0;34m)\u001b[0m\u001b[0;34m:\u001b[0m\u001b[0;34m\u001b[0m\u001b[0;34m\u001b[0m\u001b[0m\n\u001b[1;32m      4\u001b[0m     \u001b[0mnumber\u001b[0m \u001b[0;34m+=\u001b[0m \u001b[0;36m1\u001b[0m      \u001b[0;31m# not accessible due to function level scope\u001b[0m\u001b[0;34m\u001b[0m\u001b[0;34m\u001b[0m\u001b[0m\n\u001b[0;32m----> 5\u001b[0;31m \u001b[0mscopeTest\u001b[0m\u001b[0;34m(\u001b[0m \u001b[0;34m)\u001b[0m\u001b[0;34m\u001b[0m\u001b[0;34m\u001b[0m\u001b[0m\n\u001b[0m",
      "\u001b[0;32m<ipython-input-26-7aa4fe8ddcc0>\u001b[0m in \u001b[0;36mscopeTest\u001b[0;34m()\u001b[0m\n\u001b[1;32m      2\u001b[0m \u001b[0mnumber\u001b[0m \u001b[0;34m=\u001b[0m \u001b[0;36m5\u001b[0m\u001b[0;34m\u001b[0m\u001b[0;34m\u001b[0m\u001b[0m\n\u001b[1;32m      3\u001b[0m \u001b[0;32mdef\u001b[0m \u001b[0mscopeTest\u001b[0m\u001b[0;34m(\u001b[0m \u001b[0;34m)\u001b[0m\u001b[0;34m:\u001b[0m\u001b[0;34m\u001b[0m\u001b[0;34m\u001b[0m\u001b[0m\n\u001b[0;32m----> 4\u001b[0;31m     \u001b[0mnumber\u001b[0m \u001b[0;34m+=\u001b[0m \u001b[0;36m1\u001b[0m      \u001b[0;31m# not accessible due to function level scope\u001b[0m\u001b[0;34m\u001b[0m\u001b[0;34m\u001b[0m\u001b[0m\n\u001b[0m\u001b[1;32m      5\u001b[0m \u001b[0mscopeTest\u001b[0m\u001b[0;34m(\u001b[0m \u001b[0;34m)\u001b[0m\u001b[0;34m\u001b[0m\u001b[0;34m\u001b[0m\u001b[0m\n",
      "\u001b[0;31mUnboundLocalError\u001b[0m: local variable 'number' referenced before assignment"
     ]
    }
   ],
   "source": [
    "# where global variables can be accessed\n",
    "number = 5\n",
    "def scopeTest( ):\n",
    "    number += 1      # not accessible due to function level scope\n",
    "scopeTest( )"
   ]
  },
  {
   "cell_type": "code",
   "execution_count": 27,
   "metadata": {},
   "outputs": [
    {
     "name": "stdout",
     "output_type": "stream",
     "text": [
      "function\n"
     ]
    }
   ],
   "source": [
    "# accessing variables defined in a function\n",
    "def scopeTest( ):\n",
    "    word = \"function\"\n",
    "    return word\n",
    "value = scopeTest( )\n",
    "print(value)"
   ]
  },
  {
   "cell_type": "code",
   "execution_count": 28,
   "metadata": {},
   "outputs": [],
   "source": [
    "num = 5\n",
    "def changeNum(n):\n",
    "    n += 5\n",
    "    print(num)"
   ]
  },
  {
   "cell_type": "code",
   "execution_count": 29,
   "metadata": {},
   "outputs": [
    {
     "name": "stdout",
     "output_type": "stream",
     "text": [
      "5\n"
     ]
    }
   ],
   "source": [
    "changeNum(6)"
   ]
  },
  {
   "cell_type": "markdown",
   "metadata": {},
   "source": [
    "# Friday Project: Creating a Shopping Cart"
   ]
  },
  {
   "cell_type": "code",
   "execution_count": null,
   "metadata": {},
   "outputs": [
    {
     "name": "stdout",
     "output_type": "stream",
     "text": [
      "Your cart is empty.\n"
     ]
    }
   ],
   "source": [
    "# import necessary functions\n",
    "from IPython.display import clear_output\n",
    "\n",
    "# global list variable\n",
    "cart = [ ]\n",
    "\n",
    "# create function to add items to cart\n",
    "def addItem(item):\n",
    "    clear_output( )\n",
    "    cart.append(item)\n",
    "    print( f\"{item } has been added.\")\n",
    "    \n",
    "# create function to remove items from cart\n",
    "def removeItem(item):\n",
    "    clear_output( )\n",
    "    try:\n",
    "        cart.remove(item)\n",
    "        print( f\"{item } has been removed.\")\n",
    "    except:\n",
    "        print(\"Sorry we could not remove that item.\")\n",
    "\n",
    "# create a function to show items in cart\n",
    "def showCart( ):\n",
    "    clear_output( )\n",
    "    if cart:\n",
    "        print(\"Here is your cart:\")\n",
    "        for item in cart:\n",
    "            print(f\"- {item }\")\n",
    "    else:\n",
    "        print(\"Your cart is empty.\")\n",
    "        \n",
    "# create function to clear items from cart\n",
    "def clearCart( ):\n",
    "    clear_output( )\n",
    "    cart.clear( )\n",
    "    print(\"Your cart is empty.\")\n",
    "    \n",
    "# create main function that loops until the user quits\n",
    "def main( ):\n",
    "    done = False\n",
    "    while not done:\n",
    "        ans = input(\"quit/add/remove/show/clear: \").lower( )\n",
    "        # base case\n",
    "        if ans == \"quit\":\n",
    "            print(\"Thanks for using our program.\")\n",
    "            showCart( )\n",
    "            done = True\n",
    "        elif ans == \"add\":\n",
    "            item = input(\"What would you like to add? \").title( )\n",
    "            addItem(item)\n",
    "        elif ans == \"remove\":\n",
    "            showCart( )\n",
    "            item = input(\"What item would you like to remove? \").title( )\n",
    "            removeItem(item)\n",
    "        elif ans == \"show\":\n",
    "                showCart( )\n",
    "        elif ans == \"clear\":\n",
    "            clearCart( )\n",
    "        else:\n",
    "            print(\"Sorry that was not an option.\")\n",
    "\n",
    "main() "
   ]
  },
  {
   "cell_type": "code",
   "execution_count": null,
   "metadata": {},
   "outputs": [],
   "source": []
  }
 ],
 "metadata": {
  "kernelspec": {
   "display_name": "Python 3",
   "language": "python",
   "name": "python3"
  },
  "language_info": {
   "codemirror_mode": {
    "name": "ipython",
    "version": 3
   },
   "file_extension": ".py",
   "mimetype": "text/x-python",
   "name": "python",
   "nbconvert_exporter": "python",
   "pygments_lexer": "ipython3",
   "version": "3.8.5"
  }
 },
 "nbformat": 4,
 "nbformat_minor": 4
}
