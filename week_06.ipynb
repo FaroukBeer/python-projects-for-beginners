{
 "cells": [
  {
   "cell_type": "markdown",
   "metadata": {},
   "source": [
    "# Dictionaries"
   ]
  },
  {
   "cell_type": "code",
   "execution_count": 9,
   "metadata": {},
   "outputs": [
    {
     "name": "stdout",
     "output_type": "stream",
     "text": [
      "Julia\n",
      "{}\n",
      "Tim\n",
      "age is not availble\n"
     ]
    }
   ],
   "source": [
    "# declaring a dictionary variable\n",
    "empty = { } # an empty dictionary\n",
    "empty_dict = dict()\n",
    "person_01 = { \"name\": \"Julia\"}\n",
    "person_02 = { \"name\": \"Tim\"}\n",
    "customer = {\n",
    "    \"name\":\"Zohra\",\n",
    "    \"age\": 26\n",
    "} \n",
    "print(person_01[\"name\"])\n",
    "print(empty_dict)\n",
    "print(person_02.get(\"name\"))\n",
    "print(person_02.get(\"age\", \"age is not availble\"))"
   ]
  },
  {
   "cell_type": "markdown",
   "metadata": {},
   "source": [
    "# Get Method"
   ]
  },
  {
   "cell_type": "code",
   "execution_count": 8,
   "metadata": {},
   "outputs": [
    {
     "name": "stdout",
     "output_type": "stream",
     "text": [
      "John\n",
      "Age is not available.\n"
     ]
    }
   ],
   "source": [
    "# using the get method to access dictionary information\n",
    "person = { \"name\": \"John\" }\n",
    "print( person.get(\"name\") )       # retrieves value of name key as before\n",
    "print( person.get(\"age\", \"Age is not available.\") )     # get is a secure way to retrieve information"
   ]
  },
  {
   "cell_type": "code",
   "execution_count": null,
   "metadata": {},
   "outputs": [],
   "source": []
  }
 ],
 "metadata": {
  "kernelspec": {
   "display_name": "Python 3",
   "language": "python",
   "name": "python3"
  },
  "language_info": {
   "codemirror_mode": {
    "name": "ipython",
    "version": 3
   },
   "file_extension": ".py",
   "mimetype": "text/x-python",
   "name": "python",
   "nbconvert_exporter": "python",
   "pygments_lexer": "ipython3",
   "version": "3.8.5"
  }
 },
 "nbformat": 4,
 "nbformat_minor": 4
}
