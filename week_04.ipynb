{
 "cells": [
  {
   "cell_type": "markdown",
   "metadata": {},
   "source": [
    "# Lists and Loops"
   ]
  },
  {
   "cell_type": "code",
   "execution_count": 1,
   "metadata": {},
   "outputs": [
    {
     "name": "stdout",
     "output_type": "stream",
     "text": [
      "[5, 10, 15.2, 20]\n"
     ]
    }
   ],
   "source": [
    "# declaring a list of numbers\n",
    "nums = [5, 10, 15.2, 20]\n",
    "print(nums)\n",
    "\n"
   ]
  },
  {
   "cell_type": "code",
   "execution_count": 16,
   "metadata": {},
   "outputs": [
    {
     "name": "stdout",
     "output_type": "stream",
     "text": [
      "10\n",
      "15.2\n"
     ]
    }
   ],
   "source": [
    "# accessing elements within a list\n",
    "print(nums[1]) # will output the value at index 1 = 10\n",
    "num = nums[2] # saves index value 2 into num\n",
    "print(num) # prints value assigned to num"
   ]
  },
  {
   "cell_type": "code",
   "execution_count": 3,
   "metadata": {},
   "outputs": [
    {
     "name": "stdout",
     "output_type": "stream",
     "text": [
      "[4.3, 'word', True]\n"
     ]
    }
   ],
   "source": [
    "# declaring a list of mixed data types\n",
    "num = 4.3\n",
    "data = [num, \"word\", True] # the power of data collection\n",
    "print(data)"
   ]
  },
  {
   "cell_type": "code",
   "execution_count": 5,
   "metadata": {},
   "outputs": [
    {
     "name": "stdout",
     "output_type": "stream",
     "text": [
      "[5, 'book', [34, 'hello'], True]\n",
      "[34, 'hello']\n",
      "hello\n"
     ]
    }
   ],
   "source": [
    "# understanding lists within lists\n",
    "data = [5, \"book\", [ 34, \"hello\" ], True] # lists can hold any type\n",
    "print(data)\n",
    "print( data[2] )\n",
    "print( data[2][1] )"
   ]
  },
  {
   "cell_type": "code",
   "execution_count": 6,
   "metadata": {},
   "outputs": [
    {
     "name": "stdout",
     "output_type": "stream",
     "text": [
      "[5, 10, 15, 20]\n",
      "[100, 10, 15, 20]\n"
     ]
    }
   ],
   "source": [
    "# changing values in a list through index\n",
    "data = [5, 10, 15, 20]\n",
    "print(data)\n",
    "data[0] = 100 # change the value at index 0 - (5 to 100)\n",
    "print(data)"
   ]
  },
  {
   "cell_type": "markdown",
   "metadata": {},
   "source": [
    "# Variable Storage"
   ]
  },
  {
   "cell_type": "code",
   "execution_count": 7,
   "metadata": {},
   "outputs": [
    {
     "name": "stdout",
     "output_type": "stream",
     "text": [
      "140230022507904\n"
     ]
    }
   ],
   "source": [
    "a = [4, 6, 78, \"Julia\", \"Tim\"]\n",
    "print(id(a))"
   ]
  },
  {
   "cell_type": "code",
   "execution_count": 12,
   "metadata": {},
   "outputs": [
    {
     "name": "stdout",
     "output_type": "stream",
     "text": [
      "a: [5, 10]\t b: [5, 10]\n",
      "Location a: 140230022506496\t Location b: 140230022506496\n",
      "a: [20, 10]\t b: [20, 10]\n",
      "Location a[0]: 4437617600\t Location b[0]: 4437617600\n"
     ]
    }
   ],
   "source": [
    "# understanding how lists are stored\n",
    "a = [5, 10]\n",
    "b = a\n",
    "print( f\"a: {a }\\t b: {b }\")\n",
    "print( f\"Location a: {id(a) }\\t Location b: {id(b) }\")\n",
    "a[0] = 20 # re-declaring the value of a[0] also changes b[0]\n",
    "print( f\"a: {a }\\t b: {b }\")\n",
    "print( f\"Location a[0]: {id(a[0]) }\\t Location b[0]: {id(b[0]) }\")"
   ]
  },
  {
   "cell_type": "code",
   "execution_count": 14,
   "metadata": {},
   "outputs": [
    {
     "name": "stdout",
     "output_type": "stream",
     "text": [
      "data = [12, 4.5, 67, 'Tim'] \t copy_data = [12, 4.5, 67, 'Tim']\n",
      "location data = 140230022440128 \t location data = 140230024874752\n"
     ]
    }
   ],
   "source": [
    "# using [:] to copy a list\n",
    "data = [12, 4.5, 67, \"Tim\"]\n",
    "copy_data = data [ : ]\n",
    "print(f\"data = {data} \\t copy_data = {copy_data}\")\n",
    "print(f\"location data = {id(data)} \\t location data = {id(copy_data)}\")"
   ]
  },
  {
   "cell_type": "code",
   "execution_count": 15,
   "metadata": {},
   "outputs": [
    {
     "name": "stdout",
     "output_type": "stream",
     "text": [
      "[1, 3, 4.5, 'hello']\n"
     ]
    }
   ],
   "source": [
    "# using .copy() to copy a list\n",
    "a = [1, 3, 4.5, \"hello\"]\n",
    "b = a.copy()\n",
    "print(b)"
   ]
  },
  {
   "cell_type": "markdown",
   "metadata": {},
   "source": [
    "# For Loops"
   ]
  },
  {
   "cell_type": "code",
   "execution_count": 17,
   "metadata": {},
   "outputs": [
    {
     "name": "stdout",
     "output_type": "stream",
     "text": [
      "Value: 0\n",
      "Value: 1\n",
      "Value: 2\n",
      "Value: 3\n",
      "Value: 4\n"
     ]
    }
   ],
   "source": [
    "# writing your first for loop using range\n",
    "for num in range(5):\n",
    "    print( f\"Value: {num }\")"
   ]
  },
  {
   "cell_type": "code",
   "execution_count": 18,
   "metadata": {},
   "outputs": [
    {
     "name": "stdout",
     "output_type": "stream",
     "text": [
      "Value: 2\n",
      "Value: 4\n",
      "Value: 6\n",
      "Value: 8\n"
     ]
    }
   ],
   "source": [
    "# providing the start, stop, and step for the range function\n",
    "for num in range(2, 10, 2):\n",
    "    print( f\"Value: {num}\") "
   ]
  },
  {
   "cell_type": "code",
   "execution_count": 22,
   "metadata": {},
   "outputs": [
    {
     "name": "stdout",
     "output_type": "stream",
     "text": [
      "Value: J\n",
      "Value: u\n",
      "Value: l\n",
      "Value: i\n",
      "Value: a\n",
      "Value: &\n",
      "Value: T\n",
      "Value: i\n",
      "Value: m\n"
     ]
    }
   ],
   "source": [
    "# printing all characters in a name using the 'in' keyword\n",
    "name = \"Julia & Tim\"\n",
    "for letter in name:\n",
    "    if letter == \" \":\n",
    "        continue\n",
    "    print( f\"Value: {letter}\")"
   ]
  },
  {
   "cell_type": "markdown",
   "metadata": {},
   "source": [
    "# continue statement"
   ]
  },
  {
   "cell_type": "code",
   "execution_count": 23,
   "metadata": {},
   "outputs": [
    {
     "name": "stdout",
     "output_type": "stream",
     "text": [
      "0\n",
      "1\n",
      "2\n",
      "4\n"
     ]
    }
   ],
   "source": [
    "# using the continue statement within a foor loop\n",
    "for num in range(5):\n",
    "    if num == 3:\n",
    "        continue\n",
    "    print(num)"
   ]
  },
  {
   "cell_type": "markdown",
   "metadata": {},
   "source": [
    "# Break Statement"
   ]
  },
  {
   "cell_type": "code",
   "execution_count": 24,
   "metadata": {},
   "outputs": [
    {
     "name": "stdout",
     "output_type": "stream",
     "text": [
      "0\n",
      "1\n",
      "2\n"
     ]
    }
   ],
   "source": [
    "# breaking out of a loop using the 'break' keyword\n",
    "for num in range(5):\n",
    "    if num == 3:\n",
    "        break\n",
    "    print(num)"
   ]
  },
  {
   "cell_type": "markdown",
   "metadata": {},
   "source": [
    "# Pass Statement"
   ]
  },
  {
   "cell_type": "code",
   "execution_count": 25,
   "metadata": {},
   "outputs": [],
   "source": [
    "# setting a placeholder using the 'pass' keyword\n",
    "for i in range(5):\n",
    "    # TODO: add code to print number\n",
    "    pass"
   ]
  },
  {
   "cell_type": "code",
   "execution_count": 26,
   "metadata": {},
   "outputs": [
    {
     "name": "stdout",
     "output_type": "stream",
     "text": [
      "0 is divisible by three\n",
      "3 is divisible by three\n",
      "6 is divisible by three\n",
      "9 is divisible by three\n",
      "12 is divisible by three\n",
      "15 is divisible by three\n",
      "18 is divisible by three\n",
      "21 is divisible by three\n",
      "24 is divisible by three\n",
      "27 is divisible by three\n",
      "30 is divisible by three\n",
      "33 is divisible by three\n",
      "36 is divisible by three\n",
      "39 is divisible by three\n",
      "42 is divisible by three\n",
      "45 is divisible by three\n",
      "48 is divisible by three\n",
      "51 is divisible by three\n",
      "54 is divisible by three\n",
      "57 is divisible by three\n",
      "60 is divisible by three\n",
      "63 is divisible by three\n",
      "66 is divisible by three\n",
      "69 is divisible by three\n",
      "72 is divisible by three\n",
      "75 is divisible by three\n",
      "78 is divisible by three\n",
      "81 is divisible by three\n",
      "84 is divisible by three\n",
      "87 is divisible by three\n",
      "90 is divisible by three\n",
      "93 is divisible by three\n",
      "96 is divisible by three\n",
      "99 is divisible by three\n"
     ]
    }
   ],
   "source": [
    "# : Write a for loop that prints out all numbers from 1 to 100 that are divisible by three.\n",
    "for i in range(100):\n",
    "    if i%3 == 0:\n",
    "        print(f\"{i} is divisible by three\")"
   ]
  },
  {
   "cell_type": "code",
   "execution_count": 33,
   "metadata": {},
   "outputs": [
    {
     "name": "stdout",
     "output_type": "stream",
     "text": [
      "enter a word JULIA\n",
      "u\n",
      "i\n",
      "a\n"
     ]
    }
   ],
   "source": [
    "#  Ask for user input, and write a for loop that will output all the vowels within it.\n",
    "word = input(\"enter a word \")\n",
    "vowels = [\"a\", \"e\", \"i\", \"o\", \"u\"]\n",
    "for letter in word :\n",
    "    for i in vowels:\n",
    "        if letter.lower() == i:\n",
    "            print(letter.lower())"
   ]
  },
  {
   "cell_type": "markdown",
   "metadata": {},
   "source": [
    "# While Loops"
   ]
  },
  {
   "cell_type": "code",
   "execution_count": null,
   "metadata": {},
   "outputs": [],
   "source": [
    "# writing your first while loop\n",
    "health = 10\n",
    "while health > 0:\n",
    "    print(health)\n",
    "    health -= 2 # forgetting this line will result in infinite loop"
   ]
  },
  {
   "cell_type": "markdown",
   "metadata": {},
   "source": [
    "# While vs. For"
   ]
  },
  {
   "cell_type": "code",
   "execution_count": 37,
   "metadata": {},
   "outputs": [
    {
     "data": {
      "text/plain": [
       "'\\nI’ve explained a few times now why we would use each loop; however, it’s always good to\\nreiterate concepts. For loops are generally used when you need to count or iterate over\\na collection of elements. While loops are generally used when doing condition-based\\nlooping. When using a while loop, often you’ll use boolean variables. Each loop has\\ntheir use cases; in most cases it’s personal preference, but the general rule of thumb is\\ncounting with for loops, conditions with while loops.\\n'"
      ]
     },
     "execution_count": 37,
     "metadata": {},
     "output_type": "execute_result"
    }
   ],
   "source": [
    "'''\n",
    "I’ve explained a few times now why we would use each loop; however, it’s always good to\n",
    "reiterate concepts. For loops are generally used when you need to count or iterate over\n",
    "a collection of elements. While loops are generally used when doing condition-based\n",
    "looping. When using a while loop, often you’ll use boolean variables. Each loop has\n",
    "their use cases; in most cases it’s personal preference, but the general rule of thumb is\n",
    "counting with for loops, conditions with while loops.\n",
    "'''"
   ]
  },
  {
   "cell_type": "markdown",
   "metadata": {},
   "source": [
    "# Nested Loops"
   ]
  },
  {
   "cell_type": "code",
   "execution_count": 38,
   "metadata": {},
   "outputs": [
    {
     "name": "stdout",
     "output_type": "stream",
     "text": [
      "0 0\n",
      "0 1\n",
      "0 2\n",
      "1 0\n",
      "1 1\n",
      "1 2\n"
     ]
    }
   ],
   "source": [
    "# using two or more loops together is called a nested loop\n",
    "for i in range(2): # outside loop\n",
    "    for j in range(3): # inside loop\n",
    "        print( i, j )"
   ]
  },
  {
   "cell_type": "code",
   "execution_count": 7,
   "metadata": {},
   "outputs": [
    {
     "name": "stdout",
     "output_type": "stream",
     "text": [
      "enter a word julia\n",
      "julia\n",
      "enter a word Tim\n",
      "Tim\n",
      "enter a word quit\n"
     ]
    }
   ],
   "source": [
    "word = input(\"enter a word \")\n",
    "while word != \"quit\":\n",
    "    print(word)\n",
    "    word = input(\"enter a word \")"
   ]
  },
  {
   "cell_type": "code",
   "execution_count": 3,
   "metadata": {},
   "outputs": [
    {
     "name": "stdout",
     "output_type": "stream",
     "text": [
      "1\n",
      "2\n",
      "3\n",
      "4\n",
      "5\n",
      "the end\n"
     ]
    }
   ],
   "source": [
    "i = 1\n",
    "while i <= 5:\n",
    "    print(i)\n",
    "    i += 1\n",
    "print(\"the end\")"
   ]
  },
  {
   "cell_type": "code",
   "execution_count": 6,
   "metadata": {},
   "outputs": [
    {
     "name": "stdout",
     "output_type": "stream",
     "text": [
      "[1, 2, 3, 4, 5, 6, 7, 8, 9, 10, 11, 12, 13, 14, 15, 16, 17, 18, 19, 20, 21, 22, 23, 24, 25, 26, 27, 28, 29, 30, 31, 32, 33, 34, 35, 36, 37, 38, 39, 40, 41, 42, 43, 44, 45, 46, 47, 48, 49, 50, 51, 52, 53, 54, 55, 56, 57, 58, 59, 60, 61, 62, 63, 64, 65, 66, 67, 68, 69, 70, 71, 72, 73, 74, 75, 76, 77, 78, 79, 80, 81, 82, 83, 84, 85, 86, 87, 88, 89, 90, 91, 92, 93, 94, 95, 96, 97, 98, 99]\n"
     ]
    }
   ],
   "source": [
    "print(list(range(1, 100)))"
   ]
  },
  {
   "cell_type": "code",
   "execution_count": 8,
   "metadata": {},
   "outputs": [
    {
     "name": "stdout",
     "output_type": "stream",
     "text": [
      "3\n",
      "5\n",
      "6\n",
      "9\n",
      "10\n",
      "12\n",
      "15\n",
      "18\n",
      "20\n",
      "21\n",
      "24\n",
      "25\n",
      "27\n",
      "30\n",
      "33\n",
      "35\n",
      "36\n",
      "39\n",
      "40\n",
      "42\n",
      "45\n",
      "48\n",
      "50\n",
      "51\n",
      "54\n",
      "55\n",
      "57\n",
      "60\n",
      "63\n",
      "65\n",
      "66\n",
      "69\n",
      "70\n",
      "72\n",
      "75\n",
      "78\n",
      "80\n",
      "81\n",
      "84\n",
      "85\n",
      "87\n",
      "90\n",
      "93\n",
      "95\n",
      "96\n",
      "99\n",
      "2318\n"
     ]
    }
   ],
   "source": [
    "total = 0\n",
    "for i in range(1,100):\n",
    "    if i % 3 == 0 or i % 5 == 0 :\n",
    "        total += i\n",
    "        print(i)\n",
    "print(total)"
   ]
  },
  {
   "cell_type": "code",
   "execution_count": 27,
   "metadata": {},
   "outputs": [
    {
     "name": "stdout",
     "output_type": "stream",
     "text": [
      "0\n",
      "1\n",
      "2\n",
      "True\n"
     ]
    }
   ],
   "source": [
    "'''\n",
    "Write a for loop within a while loop that will count from 0 to 5,\n",
    "but when it reaches 3, it sets a game_over variable to True and breaks out of\n",
    "the loop. The while loop should continue to loop until game_over is True. The\n",
    "output should only be 0, 1, 2.\n",
    "\n",
    "'''\n",
    "game_over = False\n",
    "while not game_over:\n",
    "    for i in range(6):\n",
    "        print(i)\n",
    "        if i == 2:\n",
    "            break\n",
    "    game_over = True\n",
    "    print(game_over)"
   ]
  },
  {
   "cell_type": "markdown",
   "metadata": {},
   "source": [
    "# Working with lists"
   ]
  },
  {
   "cell_type": "code",
   "execution_count": 29,
   "metadata": {},
   "outputs": [
    {
     "name": "stdout",
     "output_type": "stream",
     "text": [
      "4\n"
     ]
    }
   ],
   "source": [
    "# checking the number of a lists\n",
    "nums = [1, 2, 4, 12.5]\n",
    "length = len(a)\n",
    "print(length)"
   ]
  },
  {
   "cell_type": "code",
   "execution_count": 40,
   "metadata": {},
   "outputs": [
    {
     "name": "stdout",
     "output_type": "stream",
     "text": [
      "[2, 4]\n",
      "[1, 2]\n",
      "[1, 12.5]\n",
      "[2, 4, 12.5]\n"
     ]
    }
   ],
   "source": [
    "# Slicing lists\n",
    "print( nums[ 1 : 3 ] )\n",
    "print( nums[ : 2 ] )\n",
    "print( nums[ : : 3 ] )\n",
    "print( nums[ -3 : ] )\n",
    "# The order is always [start : stop : step]. By default, start is zero and step is one."
   ]
  },
  {
   "cell_type": "markdown",
   "metadata": {},
   "source": [
    "# Adding Items"
   ]
  },
  {
   "cell_type": "code",
   "execution_count": 43,
   "metadata": {},
   "outputs": [
    {
     "name": "stdout",
     "output_type": "stream",
     "text": [
      "[10, 20, 'Julia', 'Tim']\n"
     ]
    }
   ],
   "source": [
    "# When you need to add items to your lists, Python has two different methods for doing so.\n",
    "# .append(item)  , .insert(index)"
   ]
  },
  {
   "cell_type": "code",
   "execution_count": 44,
   "metadata": {},
   "outputs": [
    {
     "name": "stdout",
     "output_type": "stream",
     "text": [
      "[10, 20, 'Julia', 'Tim']\n"
     ]
    }
   ],
   "source": [
    "# Append will always add the value within the parenthesis to the back of the list.\n",
    "# adding an item to the back of a list using append\n",
    "nums = [10, 20, \"Julia\"]\n",
    "nums.append(\"Tim\")\n",
    "print(nums)           # outputs [10, 20, 'Julia', 'Tim']"
   ]
  },
  {
   "cell_type": "code",
   "execution_count": 46,
   "metadata": {},
   "outputs": [
    {
     "name": "stdout",
     "output_type": "stream",
     "text": [
      "['glove', 'ball', 'base']\n"
     ]
    }
   ],
   "source": [
    "# The second method to add items to a list is using insert.\n",
    "# This method requires an index to insert a value into a specific location.\n",
    "# adding a value to the beginning of the list\n",
    "words = [ \"ball\", \"base\" ]\n",
    "words.insert(0, \"glove\")   # first number is the index, second is the value.\n",
    "print(words)"
   ]
  },
  {
   "cell_type": "markdown",
   "metadata": {},
   "source": [
    "# Removing Items"
   ]
  },
  {
   "cell_type": "code",
   "execution_count": 47,
   "metadata": {},
   "outputs": [],
   "source": [
    "# There are several ways to remove items from a list, the following are the main two methods.\n",
    "# .pop( )  .remove( )"
   ]
  },
  {
   "cell_type": "code",
   "execution_count": 53,
   "metadata": {},
   "outputs": [
    {
     "name": "stdout",
     "output_type": "stream",
     "text": [
      "5\n",
      "['ball']\n"
     ]
    }
   ],
   "source": [
    "# using pop to remove items and saving to a variable to use later\n",
    "items = [5, \"ball\", True]\n",
    "items.pop()\n",
    "removed_item = items.pop(0)\n",
    "print(removed_item)\n",
    "print(items)"
   ]
  },
  {
   "cell_type": "code",
   "execution_count": 58,
   "metadata": {},
   "outputs": [
    {
     "name": "stdout",
     "output_type": "stream",
     "text": [
      "enter a club Chealse\n",
      "['Arsenal', 'Barcalona', 'Real', 'Malaga']\n"
     ]
    }
   ],
   "source": [
    "# using the remove method with a try and except\n",
    "clubs = [\"Arsenal\", \"Chealse\", \"Barcalona\", \"Real\", \"Malaga\"]\n",
    "try:\n",
    "    club = input(\"enter a club \")\n",
    "    clubs.remove(f\"{club}\")\n",
    "except:\n",
    "    print(\"This clubs does not exist\")\n",
    "print(clubs)"
   ]
  },
  {
   "cell_type": "markdown",
   "metadata": {},
   "source": [
    "# Working with Numerical List Data"
   ]
  },
  {
   "cell_type": "code",
   "execution_count": 59,
   "metadata": {},
   "outputs": [
    {
     "name": "stdout",
     "output_type": "stream",
     "text": [
      "3\n",
      "9\n",
      "17\n"
     ]
    }
   ],
   "source": [
    "# Python provides a few functions for us to use on lists of numerical data, such as min, max, and sum. \n",
    "# There are several more that we can use, though these are used most frequently.\n",
    "# using min, max, and sum\n",
    "nums = [5, 3, 9]\n",
    "print( min(nums) ) # will find the lowest number in the list\n",
    "print( max(nums) ) # will find the highest number in the list\n",
    "print( sum(nums) ) # will add all numbers in the list and return the sum"
   ]
  },
  {
   "cell_type": "markdown",
   "metadata": {},
   "source": [
    "# Sorting a List"
   ]
  },
  {
   "cell_type": "code",
   "execution_count": 60,
   "metadata": {},
   "outputs": [],
   "source": [
    "# Often, you’ll need to work with a sorted list. \n",
    "# There are a couple methods for doing so, but they are very different. \n",
    "# One will change the original list, while the other returns a copy."
   ]
  },
  {
   "cell_type": "code",
   "execution_count": 64,
   "metadata": {},
   "outputs": [
    {
     "name": "stdout",
     "output_type": "stream",
     "text": [
      "[5, 8, 0, 2] [0, 2, 5, 8]\n",
      "['e', 'y', 'u', 'a'] ['a', 'e', 'u', 'y']\n"
     ]
    }
   ],
   "source": [
    "# using sorted on lists for numerical and alphabetical data\n",
    "nums = [5, 8, 0, 2]\n",
    "alpha = [\"e\", \"y\", \"u\", \"a\"]\n",
    "sorted_alpha = sorted(alpha)\n",
    "sorted_nums = sorted(nums)     # save to a new variable to use later\n",
    "print(nums, sorted_nums)       # the original list is in tact\n",
    "print(alpha, sorted_alpha)"
   ]
  },
  {
   "cell_type": "code",
   "execution_count": 65,
   "metadata": {},
   "outputs": [
    {
     "name": "stdout",
     "output_type": "stream",
     "text": [
      "[3, 23, 43, 45.5, 56]\n"
     ]
    }
   ],
   "source": [
    "# .sort( )\n",
    "# The sort method is used for the same purpose that our previous sorted function is used for;\n",
    "# however, it will change the original list directly:\n",
    "# sorting a list with .sort() in-place\n",
    "nums = [23, 45.5, 56, 43, 3]\n",
    "nums.sort()\n",
    "print(nums)"
   ]
  },
  {
   "cell_type": "markdown",
   "metadata": {},
   "source": [
    "# Conditionals and Lists"
   ]
  },
  {
   "cell_type": "code",
   "execution_count": 66,
   "metadata": {},
   "outputs": [
    {
     "name": "stdout",
     "output_type": "stream",
     "text": [
      "found\n",
      "not found\n"
     ]
    }
   ],
   "source": [
    "# Using “in” and “not in” Keywords\n",
    "# using conditional statements on a list\n",
    "names = [ \"Jack\", \"Robert\", \"Mary\" ]\n",
    "if \"Mary\" in names:\n",
    "      print(\"found\")          # will run since Mary is in the list\n",
    "if \"Jimmy\" not in names:\n",
    "      print(\"not found\")      # will run since Jimmy is not in the list"
   ]
  },
  {
   "cell_type": "markdown",
   "metadata": {},
   "source": [
    "# Checking an Empty List"
   ]
  },
  {
   "cell_type": "code",
   "execution_count": 69,
   "metadata": {},
   "outputs": [
    {
     "name": "stdout",
     "output_type": "stream",
     "text": [
      "empty\n"
     ]
    }
   ],
   "source": [
    "# using conditionals to see if a list is empty\n",
    "nums = [ ]\n",
    "if not nums:            # could also say 'if nums == []'\n",
    "      print(\"empty\")\n",
    "        \n",
    "# To check for a list with items, you would write the following:\n",
    "# if nums:"
   ]
  },
  {
   "cell_type": "markdown",
   "metadata": {},
   "source": [
    "# Loops and Lists"
   ]
  },
  {
   "cell_type": "code",
   "execution_count": 70,
   "metadata": {},
   "outputs": [],
   "source": [
    "# You can use both the for and while loops to iterate over the items within a list."
   ]
  },
  {
   "cell_type": "markdown",
   "metadata": {},
   "source": [
    "# Using For Loops"
   ]
  },
  {
   "cell_type": "code",
   "execution_count": 71,
   "metadata": {},
   "outputs": [
    {
     "name": "stdout",
     "output_type": "stream",
     "text": [
      "Baseball\n",
      "Hockey\n",
      "Football\n",
      "Basketball\n"
     ]
    }
   ],
   "source": [
    "# using a for loop to print all items in a list\n",
    "sports = [ \"Baseball\", \"Hockey\", \"Football\", \"Basketball\" ]\n",
    "for sport in sports:\n",
    "    print(sport)"
   ]
  },
  {
   "cell_type": "markdown",
   "metadata": {},
   "source": [
    "# Using While Loops"
   ]
  },
  {
   "cell_type": "code",
   "execution_count": 77,
   "metadata": {},
   "outputs": [
    {
     "name": "stdout",
     "output_type": "stream",
     "text": [
      "['Jack', 'Rob', 'Robert']\n",
      "['Jack', 'Rob', 'Robert']\n"
     ]
    }
   ],
   "source": [
    "# using the while loop to remove a certain value\n",
    "names = [ \"Bob\", \"Jack\", \"Rob\", \"Bob\", \"Robert\" ]\n",
    "while \"Bob\" in names:\n",
    "      names.remove(\"Bob\")    # removes all instances of 'Bob'\n",
    "print(names)\n",
    "for name in names:\n",
    "    if name == \"Bob\":\n",
    "        names.remove(\"Bob\")\n",
    "print(names)"
   ]
  },
  {
   "cell_type": "code",
   "execution_count": 78,
   "metadata": {},
   "outputs": [
    {
     "name": "stdout",
     "output_type": "stream",
     "text": [
      "1\n"
     ]
    }
   ],
   "source": [
    "names = [\"julia\", \"tim\", \"farouk\", \"fatima\", \"ali\", \"zohra\" ]\n",
    "print(names.count(\"julia\"))"
   ]
  },
  {
   "cell_type": "code",
   "execution_count": 79,
   "metadata": {},
   "outputs": [
    {
     "name": "stdout",
     "output_type": "stream",
     "text": [
      "['farouk', 'julia', 'tim', 'fatima', 'ali', 'zohra']\n"
     ]
    }
   ],
   "source": [
    "# remove all duplicates from the list below. hint: Use the .count( ) method.\n",
    "names = [\"julia\", \"tim\", \"farouk\", \"julia\", \"tim\", \"fatima\", \"ali\", \"zohra\" ]\n",
    "for name in names:\n",
    "    if names.count(name) > 1:\n",
    "        names.remove(name)\n",
    "print(names)"
   ]
  },
  {
   "cell_type": "code",
   "execution_count": 1,
   "metadata": {},
   "outputs": [
    {
     "name": "stdout",
     "output_type": "stream",
     "text": [
      "enter a word Julia\n",
      "enter a word Tim\n",
      "enter a word Zohra\n",
      "enter a word Quit\n",
      "julia\n",
      "tim\n",
      "zohra\n"
     ]
    }
   ],
   "source": [
    "# Use a while loop to continually ask the user to input a word, until they type “quit ”.\n",
    "# once they type a word in, add it to a list.\n",
    "# once they quit the loop, use a for loop to output all items within the list.\n",
    "lists = [ ]\n",
    "stop = False\n",
    "while not stop:\n",
    "    word = input(\"enter a word \").lower()\n",
    "    if word == \"quit\":\n",
    "        stop = True\n",
    "    else:\n",
    "        lists.append(word)\n",
    "for item in lists:\n",
    "    print(item)\n"
   ]
  },
  {
   "cell_type": "markdown",
   "metadata": {},
   "source": [
    "# Creating Hangman"
   ]
  },
  {
   "cell_type": "code",
   "execution_count": null,
   "metadata": {},
   "outputs": [
    {
     "name": "stdout",
     "output_type": "stream",
     "text": [
      "You guessed correctly!\n",
      "Your guessed letters: ['hey', 'tree']\n",
      "Word to guess: _ _ _ _ \n",
      "Lives: 6\n"
     ]
    }
   ],
   "source": [
    "# import additional functions\n",
    "from random import choice\n",
    "from IPython.display import clear_output\n",
    "\n",
    "# declare game variables\n",
    "words = ['tree', 'basket', 'chair', 'paper', 'python']\n",
    "word = choice(words)\n",
    "guessed, lives, game_over = [], 7, False\n",
    "\n",
    "# create a list of underscores to the length of the word\n",
    "guesses = ['_ '] * len(word)\n",
    "\n",
    "# create main game loop\n",
    "while not game_over:\n",
    "    # output game information\n",
    "    hidden_word = ''.join(guesses)\n",
    "    print(f'Your guessed letters: {guessed}')\n",
    "    print(f'Word to guess: {hidden_word}')\n",
    "    print(f'Lives: {lives}')\n",
    "    \n",
    "    ans = input('Type quit or guess a letter: ').lower()\n",
    "    \n",
    "    clear_output( ) # clear all previous output\n",
    "    \n",
    "    if ans == 'quit':\n",
    "        print('Thanks for playing.')\n",
    "        game_over = True\n",
    "    elif ans in word and ans not in guessed:\n",
    "        print('You guessed correctly!')\n",
    "        \n",
    "        # create a loop to change underscore to proper letter\n",
    "        for i in range(len(word)):\n",
    "            if word[i] == ans:\n",
    "                guesses[i] = ans\n",
    "    elif ans in guessed:\n",
    "        print('You already guessed that. Try again.')\n",
    "    else:                 # otherwise lose life\n",
    "        lives -= 1\n",
    "        print('Incorrect, you lost a life.')\n",
    "        \n",
    "    if ans not in guessed:\n",
    "        guessed.append(ans)    # add guess to guessed list\n",
    "        \n",
    "    if lives <= 0:\n",
    "        print('You lost all your lives, you lost!')\n",
    "        game_over = True\n",
    "    elif word == ''.join(guesses):\n",
    "        print('Congratulations, you guessed it correctly!')\n",
    "        game_over = True"
   ]
  },
  {
   "cell_type": "code",
   "execution_count": 14,
   "metadata": {},
   "outputs": [
    {
     "name": "stdout",
     "output_type": "stream",
     "text": [
      "    \n",
      "    X\n",
      "   X X\n",
      "  X X X\n"
     ]
    }
   ],
   "source": [
    "'''\n",
    "Pyramids: Use a for loop to build a pyramid of x’s.\n",
    "It should be modular so that if you loop to 5 or 50, it still creates evenly spaced rows.\n",
    "Hint: Multiply the string “x” by the row. For example, if you loop to the range of 4.\n",
    "'''\n",
    "row = 4\n",
    "for i in range(row):\n",
    "    print(\" \"*(row-i)+\" X\"*i)"
   ]
  },
  {
   "cell_type": "code",
   "execution_count": 18,
   "metadata": {},
   "outputs": [
    {
     "name": "stdout",
     "output_type": "stream",
     "text": [
      "['zohra', 'julia', 'farouk', 'tim']\n"
     ]
    }
   ],
   "source": [
    "'''\n",
    "Output Names: Write a loop that will iterate over a list of items \n",
    "and only output items which have letters inside of a string. \n",
    "Take the following list, for example, only “John” and “Amanda” should be output:\n",
    "        >>> names = ['John', '  ', 'Amanda', 5]\n",
    "'''\n",
    "names = [\"zohra\", \"julia\", \" \", \"farouk\", \"tim\", 45.6, False, 4]\n",
    "lists = []\n",
    "for name in names:\n",
    "    if type(name) == str and name.strip() != \"\" :\n",
    "            lists.append(name)\n",
    "print(lists)"
   ]
  },
  {
   "cell_type": "code",
   "execution_count": 28,
   "metadata": {},
   "outputs": [
    {
     "name": "stdout",
     "output_type": "stream",
     "text": [
      "converted list: [89.6, 82.4, 50.0, 41.0, 111.2]\n"
     ]
    }
   ],
   "source": [
    "'''\n",
    "Convert Celsius: Given a list of temperatures that are in Celsius,\n",
    "write a loop that iterates over the list and outputs the temperature converted into Fahrenheit. \n",
    "Hint: The conversion is “F = (9/5) ∗ C + 32”:\n",
    "        >>> temps = [32, 12, 44, 29]\n",
    "        Output would be [89.6, 53.6, 111.2, 84.2]\n",
    "'''\n",
    "temp_cel = [32, 28, 10, 5, 44]\n",
    "\n",
    "for i in range(len(temp_cel)):\n",
    "    \n",
    "    temp_cel[i] = (9/5) * temp_cel[i] + 32\n",
    "    \n",
    "print(f\"converted list: {temp_cel}\")\n",
    "    "
   ]
  },
  {
   "cell_type": "code",
   "execution_count": null,
   "metadata": {},
   "outputs": [],
   "source": []
  }
 ],
 "metadata": {
  "kernelspec": {
   "display_name": "Python 3",
   "language": "python",
   "name": "python3"
  },
  "language_info": {
   "codemirror_mode": {
    "name": "ipython",
    "version": 3
   },
   "file_extension": ".py",
   "mimetype": "text/x-python",
   "name": "python",
   "nbconvert_exporter": "python",
   "pygments_lexer": "ipython3",
   "version": "3.8.5"
  }
 },
 "nbformat": 4,
 "nbformat_minor": 4
}
